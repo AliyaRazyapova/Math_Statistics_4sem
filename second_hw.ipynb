{
  "cells": [
    {
      "cell_type": "markdown",
      "metadata": {
        "id": "view-in-github",
        "colab_type": "text"
      },
      "source": [
        "<a href=\"https://colab.research.google.com/github/AliyaRazyapova/Math_Statistics_4sem/blob/second-hw/second_hw.ipynb\" target=\"_parent\"><img src=\"https://colab.research.google.com/assets/colab-badge.svg\" alt=\"Open In Colab\"/></a>"
      ]
    },
    {
      "cell_type": "markdown",
      "source": [
        "# Пуассон распределение\n"
      ],
      "metadata": {
        "id": "p0foRnOLvyBT"
      }
    },
    {
      "cell_type": "code",
      "source": [
        "#Importing the required modules\n",
        "import seaborn as sb\n",
        "import matplotlib.pyplot as plt\n",
        "import numpy as np\n",
        "from scipy.stats import poisson\n",
        "\n",
        "#Applying the poisson class methods\n",
        "x = np.arange(0,10)\n",
        "pmf = poisson.pmf(x,3)\n",
        "print(f'Общее среднее значение: {x.mean()}')\n",
        "\n",
        "#Visualizing the results\n",
        "sb.set_style('whitegrid')\n",
        "plt.vlines(x ,0, pmf, colors='k', linestyles='-', lw=6)\n",
        "plt.ylabel('Probability')\n",
        "plt.xlabel('intervals')\n",
        "plt.show()"
      ],
      "metadata": {
        "colab": {
          "base_uri": "https://localhost:8080/",
          "height": 296
        },
        "id": "1TN4Dv2bwQMb",
        "outputId": "dfdabfe9-af24-4d20-b1e4-b856674c3090"
      },
      "execution_count": null,
      "outputs": [
        {
          "output_type": "stream",
          "name": "stdout",
          "text": [
            "Общее среднее значение: 4.5\n"
          ]
        },
        {
          "output_type": "display_data",
          "data": {
            "text/plain": [
              "<Figure size 432x288 with 1 Axes>"
            ],
            "image/png": "[encoded data removed]"
          },
          "metadata": {}
        }
      ]
    },
    {
      "cell_type": "markdown",
      "source": [
        "Функция для получения среднего значения случайной выборки"
      ],
      "metadata": {
        "id": "vL7GaEkhwVxy"
      }
    },
    {
      "cell_type": "code",
      "source": [
        "def sample_mean_stat(n):\n",
        "  return np.random.choice(x, n).mean()"
      ],
      "metadata": {
        "id": "JWfYZwN5wagx"
      },
      "execution_count": null,
      "outputs": []
    },
    {
      "cell_type": "markdown",
      "source": [
        "Функция для получения выборочного распределения случайных выборок"
      ],
      "metadata": {
        "id": "tUun3I2YwjOB"
      }
    },
    {
      "cell_type": "code",
      "source": [
        "def compute_sample_distribution(n, iters):\n",
        "  return np.array([sample_mean_stat(n) for i in range(iters)])"
      ],
      "metadata": {
        "id": "guchRxDNwjrZ"
      },
      "execution_count": null,
      "outputs": []
    },
    {
      "cell_type": "markdown",
      "source": [
        "Получение выборочного распределения случайных выборок"
      ],
      "metadata": {
        "id": "UEWskhwjwneM"
      }
    },
    {
      "cell_type": "code",
      "source": [
        "sample_means = compute_sample_distribution(n=20, iters=1000)\n",
        "\n",
        "print(f'Выборочное среднее значение: {sample_means.mean()}')"
      ],
      "metadata": {
        "colab": {
          "base_uri": "https://localhost:8080/"
        },
        "id": "nwSYHi77wnrr",
        "outputId": "077d1951-2e56-41c6-8211-5c07abf2e122"
      },
      "execution_count": null,
      "outputs": [
        {
          "output_type": "stream",
          "name": "stdout",
          "text": [
            "Выборочное среднее значение: 4.4818\n"
          ]
        }
      ]
    },
    {
      "cell_type": "markdown",
      "source": [
        "График средних значений случайных выборок"
      ],
      "metadata": {
        "id": "5hozSN1kwvDw"
      }
    },
    {
      "cell_type": "code",
      "source": [
        "plt.hist(sample_means)\n",
        "plt.xlabel('sample mean')\n",
        "plt.ylabel('count')\n",
        "plt.show()"
      ],
      "metadata": {
        "colab": {
          "base_uri": "https://localhost:8080/",
          "height": 279
        },
        "id": "1lJaHw5WwvP7",
        "outputId": "daa68a80-b9a2-4021-86e1-0d70f03e3e5f"
      },
      "execution_count": null,
      "outputs": [
        {
          "output_type": "display_data",
          "data": {
            "text/plain": [
              "<Figure size 432x288 with 1 Axes>"
            ],
            "image/png": "[encoded data removed]"
          },
          "metadata": {}
        }
      ]
    }
  ],
  "metadata": {
    "colab": {
      "provenance": [],
      "name": "second_hw.ipynb",
      "include_colab_link": true
    },
    "kernelspec": {
      "display_name": "Python 3",
      "name": "python3"
    }
  },
  "nbformat": 4,
  "nbformat_minor": 0
}