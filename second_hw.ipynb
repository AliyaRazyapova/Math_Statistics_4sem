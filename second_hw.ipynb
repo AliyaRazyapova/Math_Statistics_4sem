{
  "cells": [
    {
      "cell_type": "markdown",
      "source": [
        "# Пуассон распределение\n"
      ],
      "metadata": {
        "id": "p0foRnOLvyBT"
      }
    },
    {
      "cell_type": "code",
      "source": [
        "#Importing the required modules\n",
        "import seaborn as sb\n",
        "import matplotlib.pyplot as plt\n",
        "import numpy as np\n",
        "from scipy.stats import poisson\n",
        "\n",
        "#Applying the poisson class methods\n",
        "x = np.arange(0,10)\n",
        "mu = 7\n",
        "pmf = poisson.pmf(x,mu)\n",
        "\n",
        "#Visualizing the results\n",
        "sb.set_style('whitegrid')\n",
        "plt.vlines(x ,0, pmf, colors='k', linestyles='-', lw=6)\n",
        "plt.ylabel('Probability')\n",
        "plt.xlabel('intervals')\n",
        "plt.show()\n",
        "\n",
        "print('Генеральное среднее:', mu)"
      ],
      "metadata": {
        "colab": {
          "base_uri": "https://localhost:8080/",
          "height": 296
        },
        "id": "1TN4Dv2bwQMb",
        "outputId": "a8a87fe1-a2f0-4b9a-908f-034bc8a2a1d1"
      },
      "execution_count": 32,
      "outputs": [
        {
          "output_type": "display_data",
          "data": {
            "text/plain": [
              "<Figure size 432x288 with 1 Axes>"
            ],
            "image/png": "[encoded data removed]"
          },
          "metadata": {}
        },
        {
          "output_type": "stream",
          "name": "stdout",
          "text": [
            "Генеральное среднее: 7\n"
          ]
        }
      ]
    },
    {
      "cell_type": "markdown",
      "source": [
        "Функция, чтобы задать выборки"
      ],
      "metadata": {
        "id": "66Q7pQvV0jFI"
      }
    },
    {
      "cell_type": "code",
      "source": [
        "def make_sample(n=100):\n",
        "    sample = poisson.rvs(mu, size=n)\n",
        "    return sample"
      ],
      "metadata": {
        "id": "TNInbCPIykld"
      },
      "execution_count": 33,
      "outputs": []
    },
    {
      "cell_type": "markdown",
      "source": [
        "Задаем эти выборки"
      ],
      "metadata": {
        "id": "_KF5apLF0oqO"
      }
    },
    {
      "cell_type": "code",
      "source": [
        "number_of_elements = 25\n",
        "sample = make_sample(number_of_elements)\n",
        "sample"
      ],
      "metadata": {
        "colab": {
          "base_uri": "https://localhost:8080/"
        },
        "id": "_7NrkxS2zdUm",
        "outputId": "306a0047-69ea-4c20-d1aa-e127d0d601fb"
      },
      "execution_count": 34,
      "outputs": [
        {
          "output_type": "execute_result",
          "data": {
            "text/plain": [
              "array([ 7,  5,  9,  5,  6,  5,  3,  8,  7,  2, 12,  6,  7,  5,  8, 10, 11,\n",
              "        7,  8,  7,  7, 10,  3,  5,  7])"
            ]
          },
          "metadata": {},
          "execution_count": 34
        }
      ]
    },
    {
      "cell_type": "markdown",
      "source": [
        "Функция для получения среднего значения случайной выборки"
      ],
      "metadata": {
        "id": "vL7GaEkhwVxy"
      }
    },
    {
      "cell_type": "code",
      "source": [
        "def sample_stat(sample):\n",
        "    return sample.mean()"
      ],
      "metadata": {
        "id": "JWfYZwN5wagx"
      },
      "execution_count": 35,
      "outputs": []
    },
    {
      "cell_type": "markdown",
      "source": [
        "Функция для получения выборочного распределения случайных выборок"
      ],
      "metadata": {
        "id": "tUun3I2YwjOB"
      }
    },
    {
      "cell_type": "code",
      "source": [
        "def compute_sampling_distribution(n=100, iters=1000):\n",
        "    stats = [sample_stat(make_sample(n)) for i in range(iters)]\n",
        "    return np.array(stats)"
      ],
      "metadata": {
        "id": "guchRxDNwjrZ"
      },
      "execution_count": 36,
      "outputs": []
    },
    {
      "cell_type": "markdown",
      "source": [
        "Получение выборочного распределения случайных выборок"
      ],
      "metadata": {
        "id": "UEWskhwjwneM"
      }
    },
    {
      "cell_type": "code",
      "source": [
        "number_of_iterations = 1000\n",
        "sample_means = compute_sampling_distribution(n=number_of_elements, iters=number_of_iterations)\n",
        "sample_means\n",
        "\n",
        "print(f'Выборочное среднее значение: {sample_means.mean()}')"
      ],
      "metadata": {
        "colab": {
          "base_uri": "https://localhost:8080/"
        },
        "id": "nwSYHi77wnrr",
        "outputId": "d66733bc-c79e-4d7d-f523-10179261c9fd"
      },
      "execution_count": 37,
      "outputs": [
        {
          "output_type": "stream",
          "name": "stdout",
          "text": [
            "Выборочное среднее значение: 7.01052\n"
          ]
        }
      ]
    },
    {
      "cell_type": "markdown",
      "source": [
        "График средних значений случайных выборок"
      ],
      "metadata": {
        "id": "5hozSN1kwvDw"
      }
    },
    {
      "cell_type": "code",
      "source": [
        "plt.hist(sample_means)\n",
        "plt.xlabel('sample mean')\n",
        "plt.ylabel('count')\n",
        "plt.show()"
      ],
      "metadata": {
        "colab": {
          "base_uri": "https://localhost:8080/",
          "height": 279
        },
        "id": "1lJaHw5WwvP7",
        "outputId": "3f646e95-4a67-4bc7-ff6a-502fe73be0a2"
      },
      "execution_count": 38,
      "outputs": [
        {
          "output_type": "display_data",
          "data": {
            "text/plain": [
              "<Figure size 432x288 with 1 Axes>"
            ],
            "image/png": "[encoded data removed]"
          },
          "metadata": {}
        }
      ]
    }
  ],
  "metadata": {
    "colab": {
      "provenance": []
    },
    "kernelspec": {
      "display_name": "Python 3",
      "name": "python3"
    }
  },
  "nbformat": 4,
  "nbformat_minor": 0
}